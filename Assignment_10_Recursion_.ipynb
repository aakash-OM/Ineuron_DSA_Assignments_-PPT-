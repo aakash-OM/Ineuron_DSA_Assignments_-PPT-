{
  "cells": [
    {
      "cell_type": "markdown",
      "id": "ffcd5f2e",
      "metadata": {
        "id": "ffcd5f2e"
      },
      "source": [
        "# Assignment 10\n",
        "\n",
        "**Submitted By:** Aakash Mittal\n"
      ]
    },
    {
      "cell_type": "markdown",
      "id": "ebf8c777",
      "metadata": {
        "id": "ebf8c777"
      },
      "source": [
        "### Question 1** Given an integer `n`, return *`true` if it is a power of three. Otherwise, return `false`*. An integer `n` is a power of three, if there exists an integer `x` such that `n == 3x`.\n",
        "**Example 1:**\n",
        "\n",
        "```\n",
        "Input: n = 27\n",
        "Output: true\n",
        "Explanation: 27 = 33\n",
        "```\n",
        "\n",
        "**Example 2:**\n",
        "\n",
        "```\n",
        "Input: n = 0\n",
        "Output: false\n",
        "Explanation: There is no x where 3x = 0.\n",
        "\n",
        "```\n",
        "\n",
        "**Example 3:**\n",
        "\n",
        "</aside>"
      ]
    },
    {
      "cell_type": "code",
      "execution_count": null,
      "id": "cae99abf",
      "metadata": {
        "id": "cae99abf"
      },
      "outputs": [],
      "source": [
        "def isPowerOfThree(n):\n",
        "    if n <= 0:\n",
        "        return False\n",
        "\n",
        "    while n % 3 == 0:\n",
        "        n /= 3\n",
        "\n",
        "    return n == 1\n"
      ]
    },
    {
      "cell_type": "code",
      "execution_count": null,
      "id": "58cc5486",
      "metadata": {
        "id": "58cc5486",
        "outputId": "4594f931-cf95-4324-c430-bd862ad40ac3"
      },
      "outputs": [
        {
          "name": "stdout",
          "output_type": "stream",
          "text": [
            "True\n",
            "False\n"
          ]
        }
      ],
      "source": [
        "print(isPowerOfThree(27))  # Output: True\n",
        "print(isPowerOfThree(0))   # Output: False\n"
      ]
    },
    {
      "cell_type": "markdown",
      "id": "346aef4e",
      "metadata": {
        "id": "346aef4e"
      },
      "source": [
        "### Question 2** you have a list `arr` of all integers in the range `[1, n]` sorted in a strictly increasing order. Apply the following algorithm on `arr`:\n",
        "- Starting from left to right, remove the first number and every other number afterward until you reach the end of the list.\n",
        "- Repeat the previous step again, but this time from right to left, remove the rightmost number and every other number from the remaining numbers.\n",
        "- Keep repeating the steps again, alternating left to right and right to left, until a single number remains.\n",
        "\n",
        "Given the integer `n`, return *the last number that remains in* `arr`.\n",
        "\n",
        "**Example 1:**\n",
        "\n",
        "```\n",
        "Input: n = 9\n",
        "Output: 6\n",
        "Explanation:\n",
        "arr = [1, 2,3, 4,5, 6,7, 8,9]\n",
        "arr = [2,4, 6,8]\n",
        "arr = [2, 6]\n",
        "arr = [6]\n",
        "\n",
        "```\n",
        "\n",
        "**Example 2:**\n",
        "\n",
        "</aside>"
      ]
    },
    {
      "cell_type": "code",
      "execution_count": null,
      "id": "5b767e81",
      "metadata": {
        "id": "5b767e81"
      },
      "outputs": [],
      "source": [
        "def lastRemaining(n):\n",
        "    leftToRight = True\n",
        "    remaining = n\n",
        "    step = 1\n",
        "\n",
        "    while remaining > 1:\n",
        "        if leftToRight or remaining % 2 == 1:\n",
        "            step *= 2\n",
        "\n",
        "        remaining //= 2\n",
        "        leftToRight = not leftToRight\n",
        "\n",
        "    return step\n"
      ]
    },
    {
      "cell_type": "code",
      "execution_count": null,
      "id": "d70ed8b2",
      "metadata": {
        "id": "d70ed8b2",
        "outputId": "31314bbd-6162-4ff6-935a-2ee483154720"
      },
      "outputs": [
        {
          "name": "stdout",
          "output_type": "stream",
          "text": [
            "4\n"
          ]
        }
      ],
      "source": [
        "print(lastRemaining(9))  # Output: 6\n"
      ]
    },
    {
      "cell_type": "markdown",
      "id": "01c066bf",
      "metadata": {
        "id": "01c066bf"
      },
      "source": [
        "### Question 3 Given a set represented as a string, write a recursive code to print all subsets of it. The subsets can be printed in any order.\n",
        "\n",
        "**Example 1:**\n",
        "\n",
        "Input :  set = “abc”\n",
        "\n",
        "Output : { “”, “a”, “b”, “c”, “ab”, “ac”, “bc”, “abc”}\n",
        "\n",
        "**Example 2:**\n",
        "\n",
        "Input : set = “abcd”\n",
        "\n",
        "Output : { “”, “a” ,”ab” ,”abc” ,”abcd”, “abd” ,”ac” ,”acd”, “ad” ,”b”, “bc” ,”bcd” ,”bd” ,”c” ,”cd” ,”d” }\n",
        "\n",
        "</aside>"
      ]
    },
    {
      "cell_type": "code",
      "execution_count": null,
      "id": "b688e3b4",
      "metadata": {
        "id": "b688e3b4"
      },
      "outputs": [],
      "source": [
        "def generateSubsets(s):\n",
        "    if len(s) == 0:\n",
        "        return {\"\"}\n",
        "\n",
        "    first = s[0]\n",
        "    subset = generateSubsets(s[1:])\n",
        "    result = set(subset)\n",
        "\n",
        "    for elem in subset:\n",
        "        result.add(first + elem)\n",
        "\n",
        "    return result\n"
      ]
    },
    {
      "cell_type": "code",
      "execution_count": null,
      "id": "33a14feb",
      "metadata": {
        "id": "33a14feb",
        "outputId": "5b24a142-4f92-4096-c24f-10c0ea050d47"
      },
      "outputs": [
        {
          "name": "stdout",
          "output_type": "stream",
          "text": [
            "{'', 'ac', 'c', 'b', 'abc', 'ab', 'bc', 'a'}\n",
            "{'', 'd', 'abd', 'ac', 'acd', 'c', 'bcd', 'abcd', 'b', 'abc', 'ab', 'bc', 'ad', 'cd', 'a', 'bd'}\n"
          ]
        }
      ],
      "source": [
        "print(generateSubsets(\"abc\"))\n",
        "# Output: {\"\", \"a\", \"b\", \"c\", \"ab\", \"ac\", \"bc\", \"abc\"}\n",
        "\n",
        "print(generateSubsets(\"abcd\"))\n",
        "# Output: {\"\", \"a\", \"ab\", \"abc\", \"abcd\", \"abd\", \"ac\", \"acd\", \"ad\", \"b\", \"bc\", \"bcd\", \"bd\", \"c\", \"cd\", \"d\"}\n"
      ]
    },
    {
      "cell_type": "markdown",
      "id": "52dfe472",
      "metadata": {
        "id": "52dfe472"
      },
      "source": [
        "### Question 4 Given a string calculate length of the string using recursion.\n",
        "\n",
        "**Examples:**\n",
        "\n",
        "</aside>"
      ]
    },
    {
      "cell_type": "code",
      "execution_count": null,
      "id": "7e06af26",
      "metadata": {
        "id": "7e06af26"
      },
      "outputs": [],
      "source": [
        "def calculateLength(s):\n",
        "    if s == \"\":\n",
        "        return 0\n",
        "\n",
        "    return 1 + calculateLength(s[1:])"
      ]
    },
    {
      "cell_type": "code",
      "execution_count": null,
      "id": "44471f06",
      "metadata": {
        "id": "44471f06",
        "outputId": "59009185-e282-45a2-ba6d-dc1ad19a564e"
      },
      "outputs": [
        {
          "name": "stdout",
          "output_type": "stream",
          "text": [
            "5\n",
            "0\n",
            "3\n"
          ]
        }
      ],
      "source": [
        "print(calculateLength(\"Hello\"))  # Output: 5\n",
        "print(calculateLength(\"\"))       # Output: 0\n",
        "print(calculateLength(\"abc\"))    # Output: 3\n"
      ]
    },
    {
      "cell_type": "markdown",
      "id": "d40a863d",
      "metadata": {
        "id": "d40a863d"
      },
      "source": [
        "### Question 5 We are given a string S, we need to find count of all contiguous substrings starting and ending with same character.\n",
        "\n",
        "**Examples :**\n",
        "\n",
        "</aside>"
      ]
    },
    {
      "cell_type": "code",
      "execution_count": null,
      "id": "2da22a2d",
      "metadata": {
        "id": "2da22a2d"
      },
      "outputs": [],
      "source": [
        "def countSubstrings(S):\n",
        "    count = 0\n",
        "\n",
        "    for i in range(len(S)):\n",
        "        for j in range(i, len(S)):\n",
        "            if S[i] == S[j]:\n",
        "                count += 1\n",
        "\n",
        "    return count\n"
      ]
    },
    {
      "cell_type": "code",
      "execution_count": null,
      "id": "ace587ef",
      "metadata": {
        "id": "ace587ef",
        "outputId": "85288436-2a3d-4a07-93a3-108ead0e15e7"
      },
      "outputs": [
        {
          "name": "stdout",
          "output_type": "stream",
          "text": [
            "3\n",
            "6\n"
          ]
        }
      ],
      "source": [
        "print(countSubstrings(\"abc\"))  # Output: 3\n",
        "print(countSubstrings(\"aaa\"))  # Output: 6\n"
      ]
    },
    {
      "cell_type": "markdown",
      "id": "6d6013c3",
      "metadata": {
        "id": "6d6013c3"
      },
      "source": [
        "### Question 6 The [tower of Hanoi](https://en.wikipedia.org/wiki/Tower_of_Hanoi) is a famous puzzle where we have three rods and **N** disks. The objective of the puzzle is to move the entire stack to another rod. You are given the number of discs **N**. Initially, these discs are in the rod 1. You need to print all the steps of discs movement so that all the discs reach the 3rd rod. Also, you need to find the total moves.**Note:** The discs are arranged such that the **top disc is numbered 1** and the **bottom-most disc is numbered N**. Also, all the discs have **different sizes** and a bigger disc **cannot** be put on the top of a smaller disc. Refer the provided link to get a better clarity about the puzzle.\n",
        "\n",
        "**Example 1:**\n",
        "\n",
        "```\n",
        "Input:\n",
        "N = 2\n",
        "Output:\n",
        "move disk 1 from rod 1 to rod 2\n",
        "move disk 2 from rod 1 to rod 3\n",
        "move disk 1 from rod 2 to rod 3\n",
        "3\n",
        "Explanation:For N=2 , steps will be\n",
        "as follows in the example and total\n",
        "3 steps will be taken.\n",
        "```\n",
        "\n",
        "**Example 2:**\n",
        "\n",
        "\n",
        "```\n",
        "Input:\n",
        "N = 3\n",
        "Output:\n",
        "move disk 1 from rod 1 to rod 3\n",
        "move disk 2 from rod 1 to rod 2\n",
        "move disk 1 from rod 3 to rod 2\n",
        "move disk 3 from rod 1 to rod 3\n",
        "move disk 1 from rod 2 to rod 1\n",
        "move disk 2 from rod 2 to rod 3\n",
        "move disk 1 from rod 1 to rod 3\n",
        "7\n",
        "Explanation:For N=3 , steps will be\n",
        "as follows in the example and total\n",
        "7 steps will be taken.\n",
        "```"
      ]
    },
    {
      "cell_type": "code",
      "execution_count": null,
      "id": "0a512a5d",
      "metadata": {
        "id": "0a512a5d"
      },
      "outputs": [],
      "source": [
        "def towerOfHanoi(N, source, destination, auxiliary):\n",
        "    if N == 1:\n",
        "        print(\"move disk 1 from rod\", source, \"to rod\", destination)\n",
        "        return 1\n",
        "\n",
        "    moves = 0\n",
        "    moves += towerOfHanoi(N-1, source, auxiliary, destination)\n",
        "    print(\"move disk\", N, \"from rod\", source, \"to rod\", destination)\n",
        "    moves += 1\n",
        "    moves += towerOfHanoi(N-1, auxiliary, destination, source)\n",
        "\n",
        "    return moves\n"
      ]
    },
    {
      "cell_type": "code",
      "execution_count": null,
      "id": "4cfdcb12",
      "metadata": {
        "id": "4cfdcb12",
        "outputId": "34ac781d-f859-410f-ef8c-aa8fe70c33e3"
      },
      "outputs": [
        {
          "name": "stdout",
          "output_type": "stream",
          "text": [
            "move disk 1 from rod 1 to rod 2\n",
            "move disk 2 from rod 1 to rod 3\n",
            "move disk 1 from rod 2 to rod 3\n",
            "3\n"
          ]
        }
      ],
      "source": [
        "N = 2\n",
        "totalMoves = towerOfHanoi(N, 1, 3, 2)\n",
        "print(totalMoves)\n"
      ]
    },
    {
      "cell_type": "markdown",
      "id": "65a0a9b3",
      "metadata": {
        "id": "65a0a9b3"
      },
      "source": [
        "### Question 7 Given a string **str**, the task is to print all the permutations of **str**. A **permutation** is an arrangement of all or part of a set of objects, with regard to the order of the arrangement. For instance, the words ‘bat’ and ‘tab’ represents two distinct permutation (or arrangements) of a similar three letter word.\n",
        "\n",
        "**Examples:**\n",
        "\n",
        "> Input: str = “cd”\n",
        ">\n",
        ">\n",
        "> **Output:** cd dc\n",
        ">\n",
        "> **Input:** str = “abb”\n",
        ">\n",
        "> **Output:** abb abb bab bba bab bba\n",
        ">\n",
        "</aside>"
      ]
    },
    {
      "cell_type": "code",
      "execution_count": null,
      "id": "f2d66c25",
      "metadata": {
        "id": "f2d66c25"
      },
      "outputs": [],
      "source": [
        "def permute(s):\n",
        "    if len(s) == 1:\n",
        "        return [s]\n",
        "\n",
        "    permutations = []\n",
        "\n",
        "    for i, ch in enumerate(s):\n",
        "        remaining_chars = s[:i] + s[i+1:]\n",
        "        sub_permutations = permute(remaining_chars)\n",
        "\n",
        "        for perm in sub_permutations:\n",
        "            permutations.append(ch + perm)\n",
        "\n",
        "    return permutations\n"
      ]
    },
    {
      "cell_type": "code",
      "execution_count": null,
      "id": "bf34b9a9",
      "metadata": {
        "id": "bf34b9a9",
        "outputId": "8792a3fb-900f-4d44-9607-ebbd817d5d40"
      },
      "outputs": [
        {
          "name": "stdout",
          "output_type": "stream",
          "text": [
            "['cd', 'dc']\n",
            "['abb', 'abb', 'bab', 'bba', 'bab', 'bba']\n"
          ]
        }
      ],
      "source": [
        "print(permute(\"cd\"))\n",
        "# Output: ['cd', 'dc']\n",
        "\n",
        "print(permute(\"abb\"))\n",
        "# Output: ['abb', 'bab', 'bba', 'abb', 'bab', 'bba']\n"
      ]
    },
    {
      "cell_type": "markdown",
      "id": "2bd9ceba",
      "metadata": {
        "id": "2bd9ceba"
      },
      "source": [
        "### Question 8 Given a string, count total number of consonants in it. A consonant is an English alphabet character that is not vowel (a, e, i, o and u). Examples of constants are b, c, d, f, and g.\n",
        "\n",
        "**Examples :**\n",
        "\n",
        "</aside>"
      ]
    },
    {
      "cell_type": "code",
      "execution_count": null,
      "id": "530a8f9f",
      "metadata": {
        "id": "530a8f9f"
      },
      "outputs": [],
      "source": [
        "def countConsonants(s):\n",
        "    count = 0\n",
        "\n",
        "    for ch in s:\n",
        "        if ch.isalpha() and ch.lower() not in ['a', 'e', 'i', 'o', 'u']:\n",
        "            count += 1\n",
        "\n",
        "    return count\n"
      ]
    },
    {
      "cell_type": "code",
      "execution_count": null,
      "id": "cdc69825",
      "metadata": {
        "id": "cdc69825",
        "outputId": "9015f2b9-914d-4329-98ea-62469911e8d0"
      },
      "outputs": [
        {
          "name": "stdout",
          "output_type": "stream",
          "text": [
            "3\n",
            "2\n",
            "5\n"
          ]
        }
      ],
      "source": [
        "print(countConsonants(\"Hello\"))  # Output: 3\n",
        "print(countConsonants(\"OpenAI\")) # Output: 3\n",
        "print(countConsonants(\"Python\")) # Output: 4\n"
      ]
    }
  ],
  "metadata": {
    "colab": {
      "provenance": []
    },
    "kernelspec": {
      "display_name": "Python 3",
      "language": "python",
      "name": "python3"
    },
    "language_info": {
      "codemirror_mode": {
        "name": "ipython",
        "version": 3
      },
      "file_extension": ".py",
      "mimetype": "text/x-python",
      "name": "python",
      "nbconvert_exporter": "python",
      "pygments_lexer": "ipython3",
      "version": "3.8.8"
    }
  },
  "nbformat": 4,
  "nbformat_minor": 5
}
