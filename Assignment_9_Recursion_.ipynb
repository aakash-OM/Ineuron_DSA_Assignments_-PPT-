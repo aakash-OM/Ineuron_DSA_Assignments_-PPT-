{
  "cells": [
    {
      "cell_type": "markdown",
      "id": "51344192",
      "metadata": {
        "id": "51344192"
      },
      "source": [
        "# Assignment 9\n",
        "\n",
        "**Submitted By:** Aakash Mittal"
      ]
    },
    {
      "cell_type": "markdown",
      "id": "10a52dd9",
      "metadata": {
        "id": "10a52dd9"
      },
      "source": [
        "### Question  1 Given an integer `n`, return *`true` if it is a power of two. Otherwise, return `false`*. An integer `n` is a power of two, if there exists an integer `x` such that `n == 2x`.\n",
        "\n",
        "**Example 1:**\n",
        "Input: n = 1\n",
        "\n",
        "Output: true\n",
        "\n",
        "**Example 2:**\n",
        "Input: n = 16\n",
        "\n",
        "Output: true\n",
        "\n",
        "**Example 3:**\n",
        "Input: n = 3\n",
        "\n",
        "Output: false\n",
        "\n",
        "</aside>"
      ]
    },
    {
      "cell_type": "code",
      "execution_count": null,
      "id": "698346ee",
      "metadata": {
        "id": "698346ee"
      },
      "outputs": [],
      "source": [
        "def isPowerOfTwo(n):\n",
        "    if n <= 0:\n",
        "        return False\n",
        "    return (n & (n - 1)) == 0\n"
      ]
    },
    {
      "cell_type": "code",
      "execution_count": null,
      "id": "94fba7b5",
      "metadata": {
        "id": "94fba7b5",
        "outputId": "bc087cd9-9f0b-4d8a-d994-2bbdbc4db986"
      },
      "outputs": [
        {
          "name": "stdout",
          "output_type": "stream",
          "text": [
            "True\n",
            "True\n",
            "False\n"
          ]
        }
      ],
      "source": [
        "print(isPowerOfTwo(1))  # Output: True\n",
        "print(isPowerOfTwo(16))  # Output: True\n",
        "print(isPowerOfTwo(3))  # Output: False\n"
      ]
    },
    {
      "cell_type": "markdown",
      "id": "c641ed5a",
      "metadata": {
        "id": "c641ed5a"
      },
      "source": [
        "### Question 2 Given a number n, find the sum of the first natural numbers.\n",
        "\n",
        "**Example 1:**\n",
        "\n",
        "Input: n = 3\n",
        "\n",
        "Output: 6\n",
        "\n",
        "**Example 2:**\n",
        "\n",
        "Input  : 5\n",
        "\n",
        "Output : 15\n",
        "\n",
        "</aside>"
      ]
    },
    {
      "cell_type": "code",
      "execution_count": null,
      "id": "122268d1",
      "metadata": {
        "id": "122268d1"
      },
      "outputs": [],
      "source": [
        "def sumOfNaturalNumbers(n):\n",
        "    return (n * (n + 1)) // 2\n"
      ]
    },
    {
      "cell_type": "code",
      "execution_count": null,
      "id": "b0ad59de",
      "metadata": {
        "id": "b0ad59de",
        "outputId": "346d7c7b-057e-46fe-cc79-d782d4dd76b1"
      },
      "outputs": [
        {
          "name": "stdout",
          "output_type": "stream",
          "text": [
            "6\n",
            "15\n"
          ]
        }
      ],
      "source": [
        "print(sumOfNaturalNumbers(3))  # Output: 6\n",
        "print(sumOfNaturalNumbers(5))  # Output: 15\n"
      ]
    },
    {
      "cell_type": "markdown",
      "id": "e7e2b814",
      "metadata": {
        "id": "e7e2b814"
      },
      "source": [
        "### Question 3 Given a positive integer, N. Find the factorial of N.\n",
        "\n",
        "**Example 1:**\n",
        "\n",
        "Input: N = 5\n",
        "\n",
        "Output: 120\n",
        "\n",
        "**Example 2:**\n",
        "\n",
        "Input: N = 4\n",
        "\n",
        "Output: 24\n",
        "\n",
        "</aside>"
      ]
    },
    {
      "cell_type": "code",
      "execution_count": null,
      "id": "2d83e10b",
      "metadata": {
        "id": "2d83e10b"
      },
      "outputs": [],
      "source": [
        "def factorial(N):\n",
        "    factorial = 1\n",
        "    for i in range(1, N + 1):\n",
        "        factorial *= i\n",
        "    return factorial\n"
      ]
    },
    {
      "cell_type": "code",
      "execution_count": null,
      "id": "ad7ac25a",
      "metadata": {
        "id": "ad7ac25a",
        "outputId": "23c894a2-a750-4814-b154-50e1ebdb5579"
      },
      "outputs": [
        {
          "name": "stdout",
          "output_type": "stream",
          "text": [
            "120\n",
            "24\n"
          ]
        }
      ],
      "source": [
        "print(factorial(5))  # Output: 120\n",
        "print(factorial(4))  # Output: 24\n"
      ]
    },
    {
      "cell_type": "markdown",
      "id": "ec767c7d",
      "metadata": {
        "id": "ec767c7d"
      },
      "source": [
        "### Question 4 Given a number N and a power P, the task is to find the exponent of this number raised to the given power, i.e. N^P.\n",
        "\n",
        "**Example 1 :**\n",
        "\n",
        "Input: N = 5, P = 2\n",
        "\n",
        "Output: 25\n",
        "\n",
        "**Example 2 :**\n",
        "Input: N = 2, P = 5\n",
        "\n",
        "Output: 32\n",
        "\n",
        "</aside>"
      ]
    },
    {
      "cell_type": "code",
      "execution_count": null,
      "id": "1d1b4b56",
      "metadata": {
        "id": "1d1b4b56"
      },
      "outputs": [],
      "source": [
        "def calculateExponent(N, P):\n",
        "    return N ** P\n"
      ]
    },
    {
      "cell_type": "code",
      "execution_count": null,
      "id": "1f6a27fa",
      "metadata": {
        "id": "1f6a27fa",
        "outputId": "fdced119-1211-4b0e-e32b-75f0782e8c01"
      },
      "outputs": [
        {
          "name": "stdout",
          "output_type": "stream",
          "text": [
            "25\n",
            "32\n"
          ]
        }
      ],
      "source": [
        "print(calculateExponent(5, 2))  # Output: 25\n",
        "print(calculateExponent(2, 5))  # Output: 32\n"
      ]
    },
    {
      "cell_type": "markdown",
      "id": "8e81f3e4",
      "metadata": {
        "id": "8e81f3e4"
      },
      "source": [
        "### Question 5** Given an array of integers **arr**, the task is to find maximum element of that array using recursion.\n",
        "\n",
        "**Example 1:**\n",
        "\n",
        "Input: arr = {1, 4, 3, -5, -4, 8, 6};\n",
        "Output: 8\n",
        "\n",
        "**Example 2:**\n",
        "\n",
        "Input: arr = {1, 4, 45, 6, 10, -8};\n",
        "Output: 45\n",
        "\n",
        "</aside>"
      ]
    },
    {
      "cell_type": "code",
      "execution_count": null,
      "id": "1f2aa9d6",
      "metadata": {
        "id": "1f2aa9d6"
      },
      "outputs": [],
      "source": [
        "def findMax(arr):\n",
        "    # Base case: If array contains only one element, return that element\n",
        "    if len(arr) == 1:\n",
        "        return arr[0]\n",
        "\n",
        "    # Split the array into two halves\n",
        "    mid = len(arr) // 2\n",
        "    left = arr[:mid]\n",
        "    right = arr[mid:]\n",
        "\n",
        "    # Recursively find the maximum elements of the left and right halves\n",
        "    max_left = findMax(left)\n",
        "    max_right = findMax(right)\n",
        "\n",
        "    # Compare the maximum elements of the left and right halves and return the larger one\n",
        "    return max(max_left, max_right)\n"
      ]
    },
    {
      "cell_type": "code",
      "execution_count": null,
      "id": "15d55d71",
      "metadata": {
        "id": "15d55d71",
        "outputId": "9c905014-3fc1-411c-e1e9-f6eaaabe6388"
      },
      "outputs": [
        {
          "name": "stdout",
          "output_type": "stream",
          "text": [
            "8\n",
            "45\n"
          ]
        }
      ],
      "source": [
        "arr1 = [1, 4, 3, -5, -4, 8, 6]\n",
        "print(findMax(arr1))  # Output: 8\n",
        "\n",
        "arr2 = [1, 4, 45, 6, 10, -8]\n",
        "print(findMax(arr2))  # Output: 45\n"
      ]
    },
    {
      "cell_type": "markdown",
      "id": "2026c838",
      "metadata": {
        "id": "2026c838"
      },
      "source": [
        "### Question 6 Given first term (a), common difference (d) and a integer N of the Arithmetic Progression series, the task is to find Nth term of the series.\n",
        "\n",
        "**Example 1:**\n",
        "\n",
        "Input : a = 2 d = 1 N = 5\n",
        "Output : 6\n",
        "The 5th term of the series is : 6\n",
        "\n",
        "**Example 2:**\n",
        "\n",
        "Input : a = 5 d = 2 N = 10\n",
        "Output : 23\n",
        "The 10th term of the series is : 23\n",
        "\n",
        "</aside>"
      ]
    },
    {
      "cell_type": "code",
      "execution_count": null,
      "id": "e7892781",
      "metadata": {
        "id": "e7892781"
      },
      "outputs": [],
      "source": [
        "def findNthTerm(a, d, N):\n",
        "    return a + (N - 1) * d\n"
      ]
    },
    {
      "cell_type": "code",
      "execution_count": null,
      "id": "d8320ee9",
      "metadata": {
        "id": "d8320ee9",
        "outputId": "95bd942b-3cb6-4f7d-91b9-715aa7951a2a"
      },
      "outputs": [
        {
          "name": "stdout",
          "output_type": "stream",
          "text": [
            "6\n",
            "23\n"
          ]
        }
      ],
      "source": [
        "print(findNthTerm(2, 1, 5))  # Output: 6\n",
        "print(findNthTerm(5, 2, 10))  # Output: 23\n"
      ]
    },
    {
      "cell_type": "markdown",
      "id": "82bcb5fa",
      "metadata": {
        "id": "82bcb5fa"
      },
      "source": [
        "### Question 7Given a string S, the task is to write a program to print all permutations of a given string.\n",
        "\n",
        "**Example 1:**\n",
        "\n",
        "***Input:***\n",
        "\n",
        "*S = “ABC”*\n",
        "\n",
        "***Output:***\n",
        "\n",
        "*“ABC”, “ACB”, “BAC”, “BCA”, “CBA”, “CAB”*\n",
        "\n",
        "**Example 2:**\n",
        "\n",
        "***Input:***\n",
        "\n",
        "*S = “XY”*\n",
        "\n",
        "***Output:***\n",
        "\n",
        "*“XY”, “YX”*\n",
        "\n",
        "</aside>"
      ]
    },
    {
      "cell_type": "code",
      "execution_count": null,
      "id": "1047d4d0",
      "metadata": {
        "id": "1047d4d0"
      },
      "outputs": [],
      "source": [
        "def permute(S):\n",
        "    # Base case: If the length of S is 1, return the string itself as the only permutation\n",
        "    if len(S) == 1:\n",
        "        return [S]\n",
        "\n",
        "    # Set to store all permutations\n",
        "    permutations = []\n",
        "\n",
        "    # Generate permutations for each character in S\n",
        "    for i in range(len(S)):\n",
        "        # Remove character at index i from S\n",
        "        c = S[i]\n",
        "        S_without_c = S[:i] + S[i+1:]\n",
        "\n",
        "        # Recursively generate all permutations of S_without_c\n",
        "        sub_permutations = permute(S_without_c)\n",
        "\n",
        "        # Append c to each permutation\n",
        "        for sub_permutation in sub_permutations:\n",
        "            permutations.append(c + sub_permutation)\n",
        "\n",
        "    return permutations\n"
      ]
    },
    {
      "cell_type": "code",
      "execution_count": null,
      "id": "edd73ef2",
      "metadata": {
        "id": "edd73ef2",
        "outputId": "e62cd96e-dd49-47db-f478-f7ee8d71059d"
      },
      "outputs": [
        {
          "name": "stdout",
          "output_type": "stream",
          "text": [
            "['ABC', 'ACB', 'BAC', 'BCA', 'CAB', 'CBA']\n",
            "['XY', 'YX']\n"
          ]
        }
      ],
      "source": [
        "S1 = \"ABC\"\n",
        "print(permute(S1))  # Output: ['ABC', 'ACB', 'BAC', 'BCA', 'CAB', 'CBA']\n",
        "\n",
        "S2 = \"XY\"\n",
        "print(permute(S2))  # Output: ['XY', 'YX']\n"
      ]
    },
    {
      "cell_type": "markdown",
      "id": "d7e49b6a",
      "metadata": {
        "id": "d7e49b6a"
      },
      "source": [
        "### Question 8 Given an array, find a product of all array elements.\n",
        "\n",
        "**Example 1:**\n",
        "\n",
        "Input  : arr[] = {1, 2, 3, 4, 5}\n",
        "Output : 120\n",
        "**Example 2:**\n",
        "\n",
        "Input  : arr[] = {1, 6, 3}\n",
        "Output : 18\n",
        "\n",
        "</aside>"
      ]
    },
    {
      "cell_type": "code",
      "execution_count": null,
      "id": "9db97611",
      "metadata": {
        "id": "9db97611"
      },
      "outputs": [],
      "source": [
        "def productOfArray(arr):\n",
        "    product = 1\n",
        "    for num in arr:\n",
        "        product *= num\n",
        "    return product\n"
      ]
    },
    {
      "cell_type": "code",
      "execution_count": null,
      "id": "c25f17f0",
      "metadata": {
        "id": "c25f17f0",
        "outputId": "fe673a0f-c563-41e7-97df-23db037173f1"
      },
      "outputs": [
        {
          "name": "stdout",
          "output_type": "stream",
          "text": [
            "120\n",
            "18\n"
          ]
        }
      ],
      "source": [
        "arr1 = [1, 2, 3, 4, 5]\n",
        "print(productOfArray(arr1))  # Output: 120\n",
        "\n",
        "arr2 = [1, 6, 3]\n",
        "print(productOfArray(arr2))  # Output: 18\n"
      ]
    }
  ],
  "metadata": {
    "colab": {
      "provenance": []
    },
    "kernelspec": {
      "display_name": "Python 3",
      "language": "python",
      "name": "python3"
    },
    "language_info": {
      "codemirror_mode": {
        "name": "ipython",
        "version": 3
      },
      "file_extension": ".py",
      "mimetype": "text/x-python",
      "name": "python",
      "nbconvert_exporter": "python",
      "pygments_lexer": "ipython3",
      "version": "3.8.8"
    }
  },
  "nbformat": 4,
  "nbformat_minor": 5
}
